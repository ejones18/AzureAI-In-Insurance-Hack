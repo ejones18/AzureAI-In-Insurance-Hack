{
 "cells": [
  {
   "cell_type": "markdown",
   "metadata": {},
   "source": [
    "# Detecting cars in videos"
   ]
  },
  {
   "cell_type": "markdown",
   "metadata": {},
   "source": [
    "### Example object detection with Azure AI Vision - on an image"
   ]
  },
  {
   "cell_type": "code",
   "execution_count": null,
   "metadata": {},
   "outputs": [],
   "source": [
    "from azure.ai.vision.imageanalysis import ImageAnalysisClient\n",
    "from azure.ai.vision.imageanalysis.models import VisualFeatures\n",
    "from azure.core.credentials import AzureKeyCredential\n",
    "from PIL import Image\n",
    "\n",
    "def resize_img(img, base_width=1000):\n",
    "    \"\"\"\n",
    "    Resize image if it is too big for the Vision API\n",
    "    \"\"\"\n",
    "    wpercent = (base_width / float(img.size[0]))\n",
    "    hsize = int((float(img.size[1]) * float(wpercent)))\n",
    "    img = img.resize((base_width, hsize), Image.Resampling.LANCZOS)\n",
    "    return img\n",
    "\n",
    "client = ImageAnalysisClient(\n",
    "    endpoint=\"<insert_vision_endpoint_here>\",\n",
    "    credential=AzureKeyCredential(\"<insert_vision_key_here>\")\n",
    ")\n",
    "\n",
    "img = Image.open('image.jpg') # Open an image for re-sizing\n",
    "\n",
    "with open(\"image.jpg\", \"rb\") as f:\n",
    "    image_data = f.read()\n",
    "\n",
    "result = client.analyze(\n",
    "            image_data=image_data,\n",
    "            visual_features=[VisualFeatures.OBJECTS]\n",
    "        )\n",
    "\n",
    "print(\"Image analysis results:\")\n",
    "print(\" Objects:\")\n",
    "\n",
    "if result.objects is not None:\n",
    "    for object in result.objects.list:\n",
    "        print(f\"   '{object.tags[0].name}', {object.bounding_box}, Confidence: {object.tags[0].confidence:.4f}\")\n",
    "\n",
    "print(f\" Image height: {result.metadata.height}\")\n",
    "print(f\" Image width: {result.metadata.width}\")\n",
    "print(f\" Model version: {result.model_version}\")"
   ]
  },
  {
   "cell_type": "markdown",
   "metadata": {},
   "source": [
    "### Breakdown a video into frames for object detection"
   ]
  },
  {
   "cell_type": "code",
   "execution_count": null,
   "metadata": {},
   "outputs": [],
   "source": [
    "import os\n",
    "\n",
    "import cv2\n",
    "\n",
    "# Path to the video file\n",
    "video_path = 'video.mp4'\n",
    "# Directory to save frames\n",
    "output_dir = './frames'\n",
    "os.makedirs(output_dir, exist_ok=True)\n",
    "\n",
    "# Open the video file\n",
    "cap = cv2.VideoCapture(video_path)\n",
    "frame_count = 0\n",
    "\n",
    "while cap.isOpened():\n",
    "    success, frame = cap.read()\n",
    "    if not success:\n",
    "        break\n",
    "    else:\n",
    "        frame_path = os.path.join(output_dir, f'frame_{frame_count:04d}.jpg')\n",
    "        cv2.imwrite(frame_path, frame)\n",
    "        frame_count += 1\n",
    "\n",
    "cap.release()\n",
    "print(f'{frame_count} frames extracted.')"
   ]
  },
  {
   "cell_type": "markdown",
   "metadata": {},
   "source": [
    "### Now to put it all together..."
   ]
  },
  {
   "cell_type": "code",
   "execution_count": null,
   "metadata": {},
   "outputs": [],
   "source": [
    "# Insert code here"
   ]
  }
 ],
 "metadata": {
  "language_info": {
   "name": "python"
  }
 },
 "nbformat": 4,
 "nbformat_minor": 2
}
