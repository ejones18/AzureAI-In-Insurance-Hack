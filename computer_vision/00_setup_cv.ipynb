{
 "cells": [
  {
   "cell_type": "markdown",
   "metadata": {},
   "source": [
    "#### Credit Serge Retkowsky | Microsoft | https://github.com/retkowsky\n",
    "# Azure Computer Vision 4 (Florence)\n",
    "## Setup Azure Computer Vision\n",
    "![Image](florence.jpg)\n",
    "\n"
   ]
  },
  {
   "cell_type": "markdown",
   "metadata": {},
   "source": [
    "## 1 Azure Computer Vision service\n",
    "- An Azure subscription - Create one for free\n",
    "https://azure.microsoft.com/free/cognitive-services/\n",
    "\n",
    "- Once you have your Azure subscription, create a Computer Vision resource in the Azure portal. \n",
    "In order to use the captioning feature in this quickstart, you must create your resource in one of the following Azure regions: East US, France Central, Korea Central, North Europe, Southeast Asia, West Europe, West US. After it deploys, click Go to resource: https://portal.azure.com/#create/Microsoft.CognitiveServicesComputerVision\n",
    "\n",
    "You will need the key and endpoint from the resource you create to connect your application to the Computer Vision service.\n",
    "You can use the free pricing tier (F0) to try the service, and upgrade later to a paid tier for production.\n",
    "\n",
    "##  2 Declare your Azure Computer Vision endpoint and key\n",
    "Edit the **credentials.env** file with your **Azure Computer Vision endpoint and key**"
   ]
  },
  {
   "cell_type": "markdown",
   "metadata": {},
   "source": [
    "## 3 Python libraries"
   ]
  },
  {
   "cell_type": "code",
   "execution_count": null,
   "metadata": {},
   "outputs": [],
   "source": [
    "import sys\n",
    "\n",
    "print(\"Tested with Python 3.12.6\\n\")\n",
    "print(\"You are using python:\", sys.version)"
   ]
  },
  {
   "cell_type": "code",
   "execution_count": null,
   "metadata": {},
   "outputs": [],
   "source": [
    "%pip show python-dotenv"
   ]
  },
  {
   "cell_type": "code",
   "execution_count": null,
   "metadata": {},
   "outputs": [],
   "source": [
    "%pip show opencv-python"
   ]
  },
  {
   "cell_type": "code",
   "execution_count": null,
   "metadata": {},
   "outputs": [],
   "source": [
    "%pip show seaborn"
   ]
  },
  {
   "cell_type": "code",
   "execution_count": null,
   "metadata": {},
   "outputs": [],
   "source": [
    "%pip show gradio"
   ]
  },
  {
   "cell_type": "code",
   "execution_count": null,
   "metadata": {},
   "outputs": [],
   "source": [
    "%pip show cleanvision"
   ]
  },
  {
   "cell_type": "code",
   "execution_count": null,
   "metadata": {},
   "outputs": [],
   "source": [
    "%pip show nomic"
   ]
  },
  {
   "cell_type": "code",
   "execution_count": null,
   "metadata": {},
   "outputs": [],
   "source": [
    "%pip show umap-learn"
   ]
  },
  {
   "cell_type": "code",
   "execution_count": null,
   "metadata": {},
   "outputs": [],
   "source": [
    "%pip show pprintjson"
   ]
  },
  {
   "cell_type": "markdown",
   "metadata": {},
   "source": [
    "## 4 Azure Vision Studio\n",
    "\n",
    "### Studio: \n",
    "https://portal.vision.cognitive.azure.com\n",
    "\n",
    "![Azure CV](vision-studio-home-page.png)\n",
    "\n",
    "https://learn.microsoft.com/en-us/azure/cognitive-services/computer-vision/overview-vision-studio\n",
    "\n",
    "## 5 Documentation\n",
    "- https://learn.microsoft.com/en-us/azure/cognitive-services/computer-vision\n",
    "- https://learn.microsoft.com/en-us/azure/cognitive-services/computer-vision/overview\n",
    "\n",
    "## 6 What's new\n",
    "https://learn.microsoft.com/en-us/azure/cognitive-services/computer-vision/whats-new\n",
    "\n",
    "## 7 Pricing\n",
    "https://azure.microsoft.com/en-us/pricing/details/cognitive-services/computer-vision\n",
    "\n",
    "## 8 Project Florence\n",
    "- https://www.microsoft.com/en-us/research/project/projectflorence\n",
    "- https://arxiv.org/abs/2111.11432"
   ]
  }
 ],
 "metadata": {
  "kernelspec": {
   "display_name": "Python 3",
   "language": "python",
   "name": "python3"
  },
  "language_info": {
   "codemirror_mode": {
    "name": "ipython",
    "version": 3
   },
   "file_extension": ".py",
   "mimetype": "text/x-python",
   "name": "python",
   "nbconvert_exporter": "python",
   "pygments_lexer": "ipython3",
   "version": "3.12.6"
  }
 },
 "nbformat": 4,
 "nbformat_minor": 2
}
