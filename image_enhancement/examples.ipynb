{
 "cells": [
  {
   "cell_type": "markdown",
   "metadata": {},
   "source": [
    "### Brightness and contrast enhancement"
   ]
  },
  {
   "cell_type": "code",
   "execution_count": null,
   "metadata": {},
   "outputs": [],
   "source": [
    "import cv2 \n",
    "import matplotlib.pyplot as plt \n",
    "import numpy as np \n",
    "\n",
    "# Load the image \n",
    "image = cv2.imread('') \n",
    "\n",
    "#Plot the original image \n",
    "plt.subplot(1, 2, 1) \n",
    "plt.title(\"Original\") \n",
    "plt.imshow(image) \n",
    "\n",
    "# Adjusts the brightness by adding 10 to each pixel value \n",
    "brightness = 10\n",
    "# Adjusts the contrast by scaling the pixel values by 2.3 \n",
    "contrast = 2.3\n",
    "image2 = cv2.addWeighted(image, contrast, np.zeros(image.shape, image.dtype), 0, brightness) \n",
    "\n",
    "#Save the image \n",
    "cv2.imwrite('modified_image.jpg', image2) \n",
    "#Plot the contrast image \n",
    "plt.subplot(1, 2, 2) \n",
    "plt.title(\"Brightness & contrast\") \n",
    "plt.imshow(image2) \n",
    "plt.show()\n"
   ]
  },
  {
   "cell_type": "markdown",
   "metadata": {},
   "source": [
    "### Sharpen image"
   ]
  },
  {
   "cell_type": "code",
   "execution_count": null,
   "metadata": {},
   "outputs": [],
   "source": [
    "import cv2 \n",
    "import matplotlib.pyplot as plt \n",
    "import numpy as np \n",
    "\n",
    "# Load the image \n",
    "image = cv2.imread('') \n",
    "\n",
    "#Plot the original image \n",
    "plt.subplot(1, 2, 1) \n",
    "plt.title(\"Original\") \n",
    "plt.imshow(image) \n",
    "\n",
    "# Create the sharpening kernel \n",
    "kernel = np.array([[0, -1, 0], [-1, 5, -1], [0, -1, 0]]) \n",
    "\n",
    "# Sharpen the image \n",
    "sharpened_image = cv2.filter2D(image, -1, kernel) \n",
    "\n",
    "#Save the image \n",
    "cv2.imwrite('sharpened_image.jpg', sharpened_image) \n",
    "\n",
    "#Plot the sharpened image \n",
    "plt.subplot(1, 2, 2) \n",
    "plt.title(\"Sharpening\") \n",
    "plt.imshow(sharpened_image) \n",
    "plt.show()\n"
   ]
  },
  {
   "cell_type": "markdown",
   "metadata": {},
   "source": [
    "### Median blur"
   ]
  },
  {
   "cell_type": "code",
   "execution_count": null,
   "metadata": {},
   "outputs": [],
   "source": [
    "import cv2 \n",
    "import matplotlib.pyplot as plt \n",
    "import numpy as np \n",
    "\n",
    "# Load the image \n",
    "image = cv2.imread('') \n",
    "\n",
    "#Plot the original image \n",
    "plt.subplot(1, 2, 1) \n",
    "plt.title(\"Original\") \n",
    "plt.imshow(image) \n",
    "\n",
    "# Remove noise using a median filter \n",
    "filtered_image = cv2.medianBlur(image, 11) \n",
    "\n",
    "#Save the image \n",
    "cv2.imwrite('Median Blur.jpg', filtered_image) \n",
    "\n",
    "#Plot the blured image \n",
    "plt.subplot(1, 2, 2) \n",
    "plt.title(\"Median Blur\") \n",
    "plt.imshow(filtered_image) \n",
    "plt.show()\n"
   ]
  }
 ],
 "metadata": {
  "language_info": {
   "name": "python"
  }
 },
 "nbformat": 4,
 "nbformat_minor": 2
}
