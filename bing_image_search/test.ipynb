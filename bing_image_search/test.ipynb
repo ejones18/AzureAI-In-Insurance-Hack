{
  "cells": [
    {
      "cell_type": "code",
      "source": [
        "import json\n",
        "import os\n",
        "from pprint import pprint\n",
        "import requests\n",
        "\n",
        "# Add your Bing Search V7 subscription key and endpoint to your environment variables.\n",
        "subscriptionKey = os.environ['BING_SEARCH_V7_SUBSCRIPTION_KEY']\n",
        "endpoint = os.environ['BING_SEARCH_V7_ENDPOINT'] + \"/bing/v7.0/images/search\"\n",
        "\n",
        "# Query to search for\n",
        "query = \"puppies\"\n",
        "\n",
        "# Construct a request\n",
        "mkt = 'en-US'\n",
        "params = {'q': query, 'mkt': mkt}\n",
        "headers = {'Ocp-Apim-Subscription-Key': subscriptionKey}\n",
        "\n",
        "# Call the API\n",
        "try:\n",
        "    response = requests.get(endpoint, headers=headers, params=params)\n",
        "    response.raise_for_status()\n",
        "\n",
        "    print(\"\\nHeaders:\\n\")\n",
        "    print(response.headers)\n",
        "\n",
        "    print(\"\\nJSON Response:\\n\")\n",
        "    pprint(response.json())\n",
        "except Exception as ex:\n",
        "    raise ex"
      ],
      "outputs": [],
      "execution_count": null,
      "metadata": {}
    }
  ],
  "metadata": {
    "language_info": {
      "name": "python"
    },
    "microsoft": {
      "ms_spell_check": {
        "ms_spell_check_language": "en"
      }
    },
    "nteract": {
      "version": "nteract-front-end@1.0.0"
    }
  },
  "nbformat": 4,
  "nbformat_minor": 2
}